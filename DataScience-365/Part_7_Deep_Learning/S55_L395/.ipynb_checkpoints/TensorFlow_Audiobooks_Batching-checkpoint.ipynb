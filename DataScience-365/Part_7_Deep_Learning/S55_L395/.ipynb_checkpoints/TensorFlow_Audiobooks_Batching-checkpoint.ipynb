{
 "cells": [
  {
   "cell_type": "markdown",
   "metadata": {},
   "source": [
    "# Audiobooks business case"
   ]
  },
  {
   "cell_type": "markdown",
   "metadata": {
    "collapsed": true
   },
   "source": [
    "## Create a class that will batch the data\n",
    "\n",
    "Whenever you want to batch the data you need to have appropriate methods. There are some batching methods integrated in TensorFlow and sklearn, but some problems may need specific coding. \n",
    "\n",
    "Here we show how these methods look like. You can use them for any machine learning framework you need (directly or after little fine-tuning)."
   ]
  },
  {
   "cell_type": "code",
   "execution_count": null,
   "metadata": {
    "collapsed": true
   },
   "outputs": [],
   "source": [
    "import numpy as np\n",
    "\n",
    "# Create a class that will do the batching for the algorithm\n",
    "# This code is extremely reusable. You should just change Audiobooks_data everywhere in the code\n",
    "class Audiobooks_Data_Reader():\n",
    "    # Dataset is a mandatory arugment, while the batch_size is optional\n",
    "    # If you don't input batch_size, it will automatically take the value: None\n",
    "    def __init__(self, dataset, batch_size = None):\n",
    "    \n",
    "        # The dataset that loads is one of \"train\", \"validation\", \"test\".\n",
    "        # e.g. if I call this class with x('train',5), it will load 'Audiobooks_data_train.npz' with a batch size of 5.\n",
    "        npz = np.load('Audiobooks_data_{0}.npz'.format(dataset))\n",
    "        \n",
    "        # Two variables that take the values of the inputs and the targets. Inputs are floats, targets are integers\n",
    "        self.inputs, self.targets = npz['inputs'].astype(np.float), npz['targets'].astype(np.int)\n",
    "        \n",
    "        # Counts the batch number, given the size you feed it later\n",
    "        # If the batch size is None, we are either validating or testing, so we want to take the data in a single batch\n",
    "        if batch_size is None:\n",
    "            self.batch_size = self.inputs.shape[0]\n",
    "        else:\n",
    "            self.batch_size = batch_size\n",
    "        self.curr_batch = 0\n",
    "        self.batch_count = self.inputs.shape[0] // self.batch_size\n",
    "    \n",
    "    # A method which loads the next batch\n",
    "    def __next__(self):\n",
    "        if self.curr_batch >= self.batch_count:\n",
    "            self.curr_batch = 0\n",
    "            raise StopIteration()\n",
    "            \n",
    "        # You slice the dataset in batches and then the \"next\" function loads them one after the other\n",
    "        batch_slice = slice(self.curr_batch * self.batch_size, (self.curr_batch + 1) * self.batch_size)\n",
    "        inputs_batch = self.inputs[batch_slice]\n",
    "        targets_batch = self.targets[batch_slice]\n",
    "        self.curr_batch += 1\n",
    "        \n",
    "        # One-hot encode the targets. In this example it's a bit superfluous since we have a 0/1 column \n",
    "        # as a target already but we're giving you the code regardless, as it will be useful for any \n",
    "        # classification task with more than one target column\n",
    "        classes_num = 2\n",
    "        targets_one_hot = np.zeros((targets_batch.shape[0], classes_num))\n",
    "        targets_one_hot[range(targets_batch.shape[0]), targets_batch] = 1\n",
    "        \n",
    "        # The function will return the inputs batch and the one-hot encoded targets\n",
    "        return inputs_batch, targets_one_hot\n",
    "    \n",
    "        \n",
    "    # A method needed for iterating over the batches, as we will put them in a loop\n",
    "    # This tells Python that the class we're defining is iterable, i.e. that we can use it like:\n",
    "    # for input, output in data: \n",
    "        # do things\n",
    "    # An iterator in Python is a class with a method __next__ that defines exactly how to iterate through its objects\n",
    "    def __iter__(self):\n",
    "        return self"
   ]
  }
 ],
 "metadata": {
  "kernelspec": {
   "display_name": "Python 3",
   "language": "python",
   "name": "python3"
  },
  "language_info": {
   "codemirror_mode": {
    "name": "ipython",
    "version": 3
   },
   "file_extension": ".py",
   "mimetype": "text/x-python",
   "name": "python",
   "nbconvert_exporter": "python",
   "pygments_lexer": "ipython3",
   "version": "3.6.2"
  }
 },
 "nbformat": 4,
 "nbformat_minor": 2
}
